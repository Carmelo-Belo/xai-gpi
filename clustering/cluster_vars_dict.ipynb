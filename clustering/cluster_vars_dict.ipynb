{
 "cells": [
  {
   "cell_type": "code",
   "execution_count": 3,
   "metadata": {},
   "outputs": [],
   "source": [
    "# Define the structure of the variables dictionary\n",
    "vars_dict = {\n",
    "    'var': [],\n",
    "    'dataset': [],\n",
    "    'vars_group': [],\n",
    "    'level': [],\n",
    "}"
   ]
  },
  {
   "cell_type": "code",
   "execution_count": 4,
   "metadata": {},
   "outputs": [],
   "source": [
    "# Insert the surface variables in the dictionary\n",
    "vars_dict['var'].extend(['msl', 'sst', 'ssta20', 'ssta30', 'mpi'])\n",
    "vars_dict['dataset'].extend(['ERA5', 'ERA5', 'ERA5dv', 'ERA5dv', 'ERA5dv'])\n",
    "vars_dict['vars_group'].extend(['MSLP-SST', 'MSLP-SST', 'SSTA', 'SSTA', 'MPI'])\n",
    "vars_dict['level'].extend(['sfc', 'sfc', 'sfc', 'sfc', 'sfc'])"
   ]
  },
  {
   "cell_type": "code",
   "execution_count": 5,
   "metadata": {},
   "outputs": [],
   "source": [
    "# Insert the pressure levels variables in the dictionary\n",
    "# Relative humidity\n",
    "vars_dict['var'].extend(['r'] * 12 )\n",
    "vars_dict['dataset'].extend(['ERA5'] * 12)\n",
    "vars_dict['vars_group'].extend(['RH'] * 12)\n",
    "vars_dict['level'].extend([1000,  900,  850,  800,  700,  600,  500,  400,  300,  200,  100, 50])\n",
    "# Relative vorticity\n",
    "vars_dict['var'].extend(['vo'] * 4)\n",
    "vars_dict['dataset'].extend(['ERA5'] * 4)\n",
    "vars_dict['vars_group'].extend(['RV'] * 4)\n",
    "vars_dict['level'].extend([1000, 850, 600, 500])\n",
    "# Absolute vorticity\n",
    "vars_dict['var'].extend(['abs_vo'] * 4)\n",
    "vars_dict['dataset'].extend(['ERA5dv'] * 4)\n",
    "vars_dict['vars_group'].extend(['AV'] * 4)\n",
    "vars_dict['level'].extend([1000, 850, 600, 500])\n",
    "# Vertical Wind Shear\n",
    "vars_dict['var'].extend(['vws'] * 6)\n",
    "vars_dict['dataset'].extend(['ERA5dv'] * 6)\n",
    "vars_dict['vars_group'].extend(['VWS'] * 6)\n",
    "vars_dict['level'].extend(['850-250', '850-200', '600-250', '500-250', '500-200', '250-50'])\n",
    "# Zonal Component of Vertical Wind Shear\n",
    "vars_dict['var'].extend(['vws_u'] * 6)\n",
    "vars_dict['dataset'].extend(['ERA5dv'] * 6)\n",
    "vars_dict['vars_group'].extend(['VWS'] * 6)\n",
    "vars_dict['level'].extend(['850-250', '850-200', '600-250', '500-250', '500-200', '250-50'])\n",
    "# Meridional Component of Vertical Wind Shear\n",
    "vars_dict['var'].extend(['vws_v'] * 6)\n",
    "vars_dict['dataset'].extend(['ERA5dv'] * 6)\n",
    "vars_dict['vars_group'].extend(['VWS'] * 6)\n",
    "vars_dict['level'].extend(['850-250', '850-200', '600-250', '500-250', '500-200', '250-50'])\n",
    "# Meridional Gradient of Zonal Wind\n",
    "vars_dict['var'].extend(['mgu'] * 6)\n",
    "vars_dict['dataset'].extend(['ERA5dv'] * 6)\n",
    "vars_dict['vars_group'].extend(['GUV'] * 6)\n",
    "vars_dict['level'].extend([850, 600, 500, 250, 200,  50])\n",
    "# Zonal Gradient of Zonal Wind\n",
    "vars_dict['var'].extend(['zgu'] * 6)\n",
    "vars_dict['dataset'].extend(['ERA5dv'] * 6)\n",
    "vars_dict['vars_group'].extend(['GUV'] * 6)\n",
    "vars_dict['level'].extend([850, 600, 500, 250, 200,  50])\n",
    "# Meridional Gradient of Meridional Wind\n",
    "vars_dict['var'].extend(['mgv'] * 6)\n",
    "vars_dict['dataset'].extend(['ERA5dv'] * 6)\n",
    "vars_dict['vars_group'].extend(['GUV'] * 6)\n",
    "vars_dict['level'].extend([850, 600, 500, 250, 200,  50])\n",
    "# Zonal Gradient of Meridional Wind\n",
    "vars_dict['var'].extend(['zgv'] * 6)\n",
    "vars_dict['dataset'].extend(['ERA5dv'] * 6)\n",
    "vars_dict['vars_group'].extend(['GUV'] * 6)\n",
    "vars_dict['level'].extend([850, 600, 500, 250, 200,  50])\n",
    "# Vertical Velocity\n",
    "vars_dict['var'].extend(['w'])\n",
    "vars_dict['dataset'].extend(['ERA5'])\n",
    "vars_dict['vars_group'].extend(['W'])\n",
    "vars_dict['level'].extend(['sfc'])"
   ]
  },
  {
   "cell_type": "code",
   "execution_count": 6,
   "metadata": {},
   "outputs": [
    {
     "data": {
      "application/vnd.microsoft.datawrangler.viewer.v0+json": {
       "columns": [
        {
         "name": "index",
         "rawType": "int64",
         "type": "integer"
        },
        {
         "name": "var",
         "rawType": "object",
         "type": "string"
        },
        {
         "name": "dataset",
         "rawType": "object",
         "type": "string"
        },
        {
         "name": "vars_group",
         "rawType": "object",
         "type": "string"
        },
        {
         "name": "level",
         "rawType": "object",
         "type": "string"
        }
       ],
       "conversionMethod": "pd.DataFrame",
       "ref": "8ffe35ee-b4ae-4a4d-966a-ffc9ac8b897b",
       "rows": [
        [
         "0",
         "msl",
         "ERA5",
         "MSLP-SST",
         "sfc"
        ],
        [
         "1",
         "sst",
         "ERA5",
         "MSLP-SST",
         "sfc"
        ],
        [
         "2",
         "ssta20",
         "ERA5dv",
         "SSTA",
         "sfc"
        ],
        [
         "3",
         "ssta30",
         "ERA5dv",
         "SSTA",
         "sfc"
        ],
        [
         "4",
         "mpi",
         "ERA5dv",
         "MPI",
         "sfc"
        ]
       ],
       "shape": {
        "columns": 4,
        "rows": 5
       }
      },
      "text/html": [
       "<div>\n",
       "<style scoped>\n",
       "    .dataframe tbody tr th:only-of-type {\n",
       "        vertical-align: middle;\n",
       "    }\n",
       "\n",
       "    .dataframe tbody tr th {\n",
       "        vertical-align: top;\n",
       "    }\n",
       "\n",
       "    .dataframe thead th {\n",
       "        text-align: right;\n",
       "    }\n",
       "</style>\n",
       "<table border=\"1\" class=\"dataframe\">\n",
       "  <thead>\n",
       "    <tr style=\"text-align: right;\">\n",
       "      <th></th>\n",
       "      <th>var</th>\n",
       "      <th>dataset</th>\n",
       "      <th>vars_group</th>\n",
       "      <th>level</th>\n",
       "    </tr>\n",
       "  </thead>\n",
       "  <tbody>\n",
       "    <tr>\n",
       "      <th>0</th>\n",
       "      <td>msl</td>\n",
       "      <td>ERA5</td>\n",
       "      <td>MSLP-SST</td>\n",
       "      <td>sfc</td>\n",
       "    </tr>\n",
       "    <tr>\n",
       "      <th>1</th>\n",
       "      <td>sst</td>\n",
       "      <td>ERA5</td>\n",
       "      <td>MSLP-SST</td>\n",
       "      <td>sfc</td>\n",
       "    </tr>\n",
       "    <tr>\n",
       "      <th>2</th>\n",
       "      <td>ssta20</td>\n",
       "      <td>ERA5dv</td>\n",
       "      <td>SSTA</td>\n",
       "      <td>sfc</td>\n",
       "    </tr>\n",
       "    <tr>\n",
       "      <th>3</th>\n",
       "      <td>ssta30</td>\n",
       "      <td>ERA5dv</td>\n",
       "      <td>SSTA</td>\n",
       "      <td>sfc</td>\n",
       "    </tr>\n",
       "    <tr>\n",
       "      <th>4</th>\n",
       "      <td>mpi</td>\n",
       "      <td>ERA5dv</td>\n",
       "      <td>MPI</td>\n",
       "      <td>sfc</td>\n",
       "    </tr>\n",
       "  </tbody>\n",
       "</table>\n",
       "</div>"
      ],
      "text/plain": [
       "      var dataset vars_group level\n",
       "0     msl    ERA5   MSLP-SST   sfc\n",
       "1     sst    ERA5   MSLP-SST   sfc\n",
       "2  ssta20  ERA5dv       SSTA   sfc\n",
       "3  ssta30  ERA5dv       SSTA   sfc\n",
       "4     mpi  ERA5dv        MPI   sfc"
      ]
     },
     "execution_count": 6,
     "metadata": {},
     "output_type": "execute_result"
    }
   ],
   "source": [
    "import pandas as pd\n",
    "import os\n",
    "df = pd.DataFrame(vars_dict)\n",
    "df.head()"
   ]
  },
  {
   "cell_type": "code",
   "execution_count": null,
   "metadata": {},
   "outputs": [],
   "source": [
    "project_dir = '/Users/huripari/Documents/PhD/TCs_Genesis'\n",
    "save_path = os.path.join(project_dir, 'xai-gpi', 'clustering', 'vars_dict.csv')\n",
    "df.to_csv(save_path, index=False)"
   ]
  },
  {
   "cell_type": "code",
   "execution_count": null,
   "metadata": {},
   "outputs": [],
   "source": []
  }
 ],
 "metadata": {
  "kernelspec": {
   "display_name": "weather",
   "language": "python",
   "name": "python3"
  },
  "language_info": {
   "codemirror_mode": {
    "name": "ipython",
    "version": 3
   },
   "file_extension": ".py",
   "mimetype": "text/x-python",
   "name": "python",
   "nbconvert_exporter": "python",
   "pygments_lexer": "ipython3",
   "version": "3.11.8"
  }
 },
 "nbformat": 4,
 "nbformat_minor": 2
}
