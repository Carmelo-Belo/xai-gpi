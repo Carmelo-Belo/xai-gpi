{
 "cells": [
  {
   "cell_type": "code",
   "execution_count": null,
   "metadata": {},
   "outputs": [],
   "source": [
    "import os\n",
    "from xai-gpi.data.utils_dataset import build_dataset"
   ]
  },
  {
   "cell_type": "code",
   "execution_count": null,
   "metadata": {},
   "outputs": [],
   "source": [
    "project_dir = '/Users/huripari/Documents/PhD/TCs_Genesis'\n",
    "\n",
    "# Variables and directories to consider to build the dataset for feature selection\n",
    "basin = 'GLB'\n",
    "n_clusters = 12\n",
    "cluster_variables = ['abs_vo600', 'abs_vo850', 'mpi', 'msl', 'r700', 'r850', 'ssta20', 'ssta30', 'sst', 'vo600', 'vo850', 'vws600-250', 'vws850-200', 'w']\n",
    "cluster_path = os.path.join(project_dir, 'xai-gpi', 'data', f'{basin}_{n_clusters}clusters')\n",
    "\n",
    "climate_indexes = ['EA-WR', 'ENSO3.4', 'EP-NP', 'NAO', 'PDO', 'PNA', 'SOI', 'TNA', 'TSA', 'WP']\n",
    "indexes_path = CI_dir = os.path.join(project_dir, 'data', 'CI')\n",
    "\n",
    "resolution = '2.5x2.5'\n",
    "target_path = os.path.join(project_dir, 'data', 'IBTrACS', resolution, 'TCG', f'TCG_{resolution}')\n",
    "\n",
    "# Years considered for the dataset\n",
    "first_year = 1965\n",
    "last_year = 2022\n",
    "\n",
    "# Folder to save the dataset\n",
    "save_path = cluster_path"
   ]
  },
  {
   "cell_type": "code",
   "execution_count": 3,
   "metadata": {},
   "outputs": [
    {
     "name": "stdout",
     "output_type": "stream",
     "text": [
      "Warning: Values above the average+7*std in abs_vo600GLB_cluster1\n",
      "Warning: Values above the average+7*std in abs_vo600GLB_cluster4\n",
      "Warning: Values above the average+7*std in abs_vo600GLB_cluster6\n",
      "Warning: Values above the average+7*std in abs_vo600GLB_cluster7\n",
      "Warning: Values above the average+7*std in abs_vo600GLB_cluster12\n",
      "Warning: Values above the average+7*std in abs_vo850GLB_cluster1\n",
      "Warning: Values above the average+7*std in abs_vo850GLB_cluster4\n",
      "Warning: Values above the average+7*std in abs_vo850GLB_cluster6\n",
      "Warning: Values above the average+7*std in abs_vo850GLB_cluster9\n",
      "Warning: Values above the average+7*std in abs_vo850GLB_cluster12\n",
      "Warning: Missing values in mpiGLB_cluster1\n",
      "Warning: Missing values in mpiGLB_cluster2\n",
      "Warning: Missing values in mpiGLB_cluster3\n",
      "Warning: Missing values in mpiGLB_cluster4\n",
      "Warning: Missing values in mpiGLB_cluster5\n",
      "Warning: Missing values in mpiGLB_cluster6\n",
      "Warning: Missing values in mpiGLB_cluster7\n",
      "Warning: Missing values in mpiGLB_cluster8\n",
      "Warning: Missing values in mpiGLB_cluster9\n",
      "Warning: Missing values in mpiGLB_cluster10\n",
      "Warning: Missing values in mpiGLB_cluster11\n",
      "Warning: Missing values in mpiGLB_cluster12\n",
      "Warning: Values above the average+7*std in ssta20GLB_cluster1\n",
      "Warning: Values above the average+7*std in ssta20GLB_cluster3\n",
      "Warning: Values above the average+7*std in ssta20GLB_cluster7\n",
      "Warning: Values above the average+7*std in ssta20GLB_cluster9\n",
      "Warning: Values above the average+7*std in ssta20GLB_cluster12\n",
      "Warning: Values above the average+7*std in ssta30GLB_cluster3\n",
      "Warning: Values above the average+7*std in ssta30GLB_cluster7\n",
      "Warning: Values above the average+7*std in ssta30GLB_cluster12\n",
      "Warning: Values above the average+7*std in vo600GLB_cluster3\n",
      "Warning: Values above the average+7*std in vo600GLB_cluster8\n",
      "Warning: Values above the average+7*std in vo850GLB_cluster5\n",
      "Warning: Values above the average+7*std in vo850GLB_cluster9\n",
      "Warning: Values above the average+7*std in wGLB_cluster6\n",
      "Warning: Values above the average+7*std in wGLB_cluster8\n",
      "Warning: Values above the average+7*std in wGLB_cluster9\n",
      "Consecutive values repeated found at EA-WR\n",
      "DatetimeIndex(['1973-12-01'], dtype='datetime64[ns]', freq=None)\n",
      "Consecutive values repeated found at ENSO3.4\n",
      "DatetimeIndex(['1981-03-01', '1988-07-01', '1990-05-01', '1990-09-01',\n",
      "               '1996-02-01', '1996-07-01', '1998-11-01', '1999-01-01',\n",
      "               '2013-04-01', '2016-09-01', '2018-01-01', '2018-11-01',\n",
      "               '2019-12-01', '2021-02-01', '2021-11-01', '2022-05-01'],\n",
      "              dtype='datetime64[ns]', freq=None)\n",
      "Consecutive values repeated found at EP-NP\n",
      "DatetimeIndex(['1982-09-01', '1983-02-01', '2008-07-01'], dtype='datetime64[ns]', freq=None)\n",
      "Consecutive values repeated found at NAO\n",
      "DatetimeIndex(['2001-08-01'], dtype='datetime64[ns]', freq=None)\n",
      "Consecutive values repeated found at PDO\n",
      "DatetimeIndex(['1971-06-01', '1986-09-01', '1986-12-01', '1990-06-01',\n",
      "               '1992-11-01', '2001-10-01', '2018-05-01', '2022-08-01',\n",
      "               '2022-09-01', '2022-10-01', '2022-11-01', '2022-12-01'],\n",
      "              dtype='datetime64[ns]', freq=None)\n",
      "Warning: Values above the average+7*std in PDO\n",
      "Consecutive values repeated found at PNA\n",
      "DatetimeIndex(['1980-07-01', '2008-09-01', '2010-09-01'], dtype='datetime64[ns]', freq=None)\n",
      "Consecutive values repeated found at SOI\n",
      "DatetimeIndex(['1967-02-01', '1974-05-01', '1977-09-01', '1980-06-01',\n",
      "               '1982-09-01', '1987-03-01', '1992-07-01', '1996-10-01',\n",
      "               '1997-09-01', '1997-10-01', '1999-06-01', '2000-07-01',\n",
      "               '2007-05-01', '2010-08-01', '2014-09-01', '2017-11-01',\n",
      "               '2019-06-01', '2021-04-01'],\n",
      "              dtype='datetime64[ns]', freq=None)\n",
      "Consecutive values repeated found at TNA\n",
      "DatetimeIndex(['1965-08-01', '1967-01-01', '1967-10-01', '1970-02-01',\n",
      "               '1973-09-01', '1974-12-01', '1977-10-01', '1978-08-01',\n",
      "               '1979-10-01', '1982-03-01', '1988-12-01', '1993-02-01',\n",
      "               '1998-05-01', '2007-11-01', '2008-08-01', '2017-07-01',\n",
      "               '2020-01-01'],\n",
      "              dtype='datetime64[ns]', freq=None)\n",
      "Consecutive values repeated found at TSA\n",
      "DatetimeIndex(['1967-02-01', '1968-05-01', '1977-03-01', '1979-01-01',\n",
      "               '1983-06-01', '1987-01-01', '1991-10-01', '1996-11-01',\n",
      "               '1998-05-01', '2003-09-01', '2012-11-01', '2014-01-01',\n",
      "               '2014-03-01', '2018-05-01', '2019-05-01', '2019-12-01'],\n",
      "              dtype='datetime64[ns]', freq=None)\n",
      "Consecutive values repeated found at WP\n",
      "DatetimeIndex(['1973-09-01', '2017-11-01'], dtype='datetime64[ns]', freq=None)\n"
     ]
    }
   ],
   "source": [
    "dataset, target = build_dataset(cluster_variables, climate_indexes, cluster_path, indexes_path, target_path, first_year, last_year, save_path, month_col=False)"
   ]
  },
  {
   "cell_type": "code",
   "execution_count": null,
   "metadata": {},
   "outputs": [],
   "source": []
  }
 ],
 "metadata": {
  "kernelspec": {
   "display_name": "weather",
   "language": "python",
   "name": "python3"
  },
  "language_info": {
   "codemirror_mode": {
    "name": "ipython",
    "version": 3
   },
   "file_extension": ".py",
   "mimetype": "text/x-python",
   "name": "python",
   "nbconvert_exporter": "python",
   "pygments_lexer": "ipython3",
   "version": "3.11.8"
  }
 },
 "nbformat": 4,
 "nbformat_minor": 2
}
