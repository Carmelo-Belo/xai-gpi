{
 "cells": [
  {
   "cell_type": "code",
   "execution_count": null,
   "metadata": {},
   "outputs": [],
   "source": [
    "import os\n",
    "import sys\n",
    "import pandas as pd\n",
    "import ipywidgets as widgets\n",
    "from ipywidgets import HBox, VBox\n",
    "from IPython.display import display, clear_output\n",
    "sys.path.insert(0, '/Users/huripari/Documents/PhD/TCs_Genesis/xai-gpi')\n",
    "import utils_results as ut"
   ]
  },
  {
   "cell_type": "code",
   "execution_count": null,
   "metadata": {},
   "outputs": [],
   "source": [
    "# Define widgets\n",
    "widget_layout1 = widgets.Layout(width='220px')\n",
    "widget_layout2 = widgets.Layout(width='170px')\n",
    "\n",
    "basin_widget = widgets.Dropdown(\n",
    "    options=['NA', 'NEP', 'NWP', 'NI', 'SP', 'SI'],\n",
    "    value='NEP',\n",
    "    style={'description_width': 'initial'},\n",
    "    layout=widget_layout1,\n",
    ")\n",
    "label_basin_widget = widgets.HTML(value=\"<b>Basin:</b>\", layout=widget_layout2)\n",
    "basin_box = HBox([label_basin_widget, basin_widget])\n",
    "\n",
    "update_button = widgets.Button(\n",
    "    description = 'Update',\n",
    "    icon = \"check\",\n",
    "    layout=widgets.Layout(height='auto'),\n",
    "    style={'button_color': 'lightgreen'}\n",
    ")"
   ]
  },
  {
   "cell_type": "code",
   "execution_count": null,
   "metadata": {},
   "outputs": [
    {
     "data": {
      "application/vnd.jupyter.widget-view+json": {
       "model_id": "ce521384992d406fbe195a072048e4c7",
       "version_major": 2,
       "version_minor": 0
      },
      "text/plain": [
       "HBox(children=(HBox(children=(HTML(value='<b>Basin:</b>', layout=Layout(width='170px')), Dropdown(index=1, lay…"
      ]
     },
     "metadata": {},
     "output_type": "display_data"
    },
    {
     "data": {
      "application/vnd.jupyter.widget-view+json": {
       "model_id": "500ae46e9b434690bc19957b7a0cb359",
       "version_major": 2,
       "version_minor": 0
      },
      "text/plain": [
       "Output()"
      ]
     },
     "metadata": {},
     "output_type": "display_data"
    }
   ],
   "source": [
    "def update_output(basin):\n",
    "    # Load the data containing the performances of the models\n",
    "    project_dir = '/Users/huripari/Documents/PhD/TCs_Genesis'\n",
    "    fs_dir = os.path.join(project_dir, 'xai-gpi')\n",
    "    results_dir = os.path.join(fs_dir, 'results')\n",
    "    figures_dir = os.path.join(fs_dir, 'best_model_analysis', 'figures')\n",
    "    basin_fig_dir = os.path.join(figures_dir, basin)\n",
    "    cluster_data_info = {'GLB': 'nc12', 'NEP': 'DSnc12', 'NWP': 'Anc10', 'NA': 'DSnc6', 'NI': 'DSnc12', 'SI':'DSnc9', 'SP': 'nc7'}\n",
    "    cluster_data = cluster_data_info[basin]\n",
    "    ## Annual time series ##\n",
    "    figY_path = os.path.join(basin_fig_dir, f'annual_time_series_{basin}.pdf')\n",
    "    figY_noT_path = os.path.join(basin_fig_dir, f'annual_time_series_noT_{basin}.pdf')\n",
    "    figY_img = ut.load_pdf_convert_to_image(figY_path)\n",
    "    figY_noT_img = ut.load_pdf_convert_to_image(figY_noT_path)\n",
    "    figy_box = HBox([\n",
    "        VBox([\n",
    "            widgets.HTML(value='<div style=\"text-align: center;\"><h2>Detrended Annual time series</h2></div>'),\n",
    "            ut.PIL_to_widget(figY_noT_img, 1200, 600),\n",
    "              ]),\n",
    "        VBox([\n",
    "            widgets.HTML(value='<div style=\"text-align: center;\"><h2>Annual time series</h2></div>'),\n",
    "            ut.PIL_to_widget(figY_img, 1200, 600),\n",
    "              ]),\n",
    "    ])\n",
    "    display(figy_box)\n",
    "    ## Selected variables ##\n",
    "    sel_feat_path = os.path.join(results_dir, f'selected_features_best_models_{basin}_{cluster_data}.csv')\n",
    "    df_sel_feat_perc = pd.read_csv(sel_feat_path, index_col=0)\n",
    "    selected_features = df_sel_feat_perc['80'].dropna().to_list()\n",
    "    fig_cluster_path = os.path.join(basin_fig_dir, f'cluster_var_map_{basin}_{cluster_data}_perc80.pdf')\n",
    "    fig_cluster = ut.load_pdf_convert_to_image(fig_cluster_path)\n",
    "    sel_features_widget = VBox([widgets.Label(text) for text in selected_features])\n",
    "    sel_feature_box = VBox([\n",
    "        widgets.HTML(value='<div style=\"text-align: center;\"><h2>Selected features</h2></div>'),\n",
    "        HBox([sel_features_widget, ut.PIL_to_widget(fig_cluster, 1200, 800)]),\n",
    "    ])\n",
    "    display(sel_feature_box)\n",
    "    ## SHAP values ##\n",
    "    fig_shap_path = os.path.join(basin_fig_dir, f'shap_analysis_{basin}.pdf')\n",
    "    fig_shap_maxmin_path = os.path.join(basin_fig_dir, f'shap_analysis_{basin}_years_maxmin.pdf')\n",
    "    fig_shap = ut.load_pdf_convert_to_image(fig_shap_path)\n",
    "    fig_shap_maxmin = ut.load_pdf_convert_to_image(fig_shap_maxmin_path)\n",
    "    shap_box = HBox([\n",
    "        VBox([\n",
    "            widgets.HTML(value='<div style=\"text-align: center;\"><h2>SHAP values</h2></div>'),\n",
    "            ut.PIL_to_widget(fig_shap, 1200, 800),\n",
    "              ]),\n",
    "        VBox([\n",
    "            widgets.HTML(value='<div style=\"text-align: center;\"><h2>SHAP values max/min</h2></div>'),\n",
    "            ut.PIL_to_widget(fig_shap_maxmin, 1200, 800),\n",
    "              ]),\n",
    "    ])\n",
    "    display(shap_box)\n",
    "\n",
    "# Binding the widgets together\n",
    "widgets_layout = HBox([basin_box, update_button])\n",
    "display(widgets_layout)\n",
    "\n",
    "outputs = widgets.Output()\n",
    "\n",
    "def on_button_clicked(b):\n",
    "    with outputs:\n",
    "        clear_output(wait=True)\n",
    "        update_output(basin_widget.value)\n",
    "update_button.on_click(on_button_clicked)\n",
    "display(outputs)"
   ]
  },
  {
   "cell_type": "code",
   "execution_count": null,
   "metadata": {},
   "outputs": [],
   "source": []
  }
 ],
 "metadata": {
  "kernelspec": {
   "display_name": "weather",
   "language": "python",
   "name": "python3"
  },
  "language_info": {
   "codemirror_mode": {
    "name": "ipython",
    "version": 3
   },
   "file_extension": ".py",
   "mimetype": "text/x-python",
   "name": "python",
   "nbconvert_exporter": "python",
   "pygments_lexer": "ipython3",
   "version": "3.11.8"
  }
 },
 "nbformat": 4,
 "nbformat_minor": 2
}
